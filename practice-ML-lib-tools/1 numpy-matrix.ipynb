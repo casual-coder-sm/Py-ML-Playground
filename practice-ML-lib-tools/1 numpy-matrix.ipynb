{
    "cells": [
        {
            "cell_type": "code",
            "execution_count": null,
            "metadata": {},
            "outputs": [],
            "source": [
                "import numpy as np"
            ]
        },
        {
            "cell_type": "code",
            "execution_count": null,
            "metadata": {},
            "outputs": [],
            "source": [
                "#Section 1 : Array Handling (creation, insert, append and delete), Attributes\n",
                "#Create a numpy array of dimension 4x3\n",
                "a=np.arange(12).reshape(4,3)\n",
                "b=np.array([1,2,3],)\n",
                "c=np.arange(1,5)\n",
                "print(\"->\",c.tolist)\n",
                "print(\"a=\\n{}\\nb=\\n{}\\nc=\\n{}\".format(a,b,c))"
            ]
        },
        {
            "cell_type": "code",
            "execution_count": null,
            "metadata": {},
            "outputs": [],
            "source": [
                "#conversion between list and numpy array\n",
                "d = np.array(list(b)) #list(b) converstion from ndarray to list; d=np.array() conversion from list to ndarray\n",
                "print (\"list(b) = {} , type(list(b)) = {}\\nd={} , type(d) ={}\\n\".format(list(b),type(list(b)),d,type(d)))"
            ]
        },
        {
            "cell_type": "code",
            "execution_count": null,
            "metadata": {},
            "outputs": [],
            "source": [
                "#convert type of array\n",
                "fa=a.astype(np.float64) \n",
                "print (\"fa type is {} with content =\\n\".format(fa.dtype),fa)\n",
                "print (\"Python builtin type for a =\",type(a),\" and element of a=\", type(a[0][0]))"
            ]
        },
        {
            "cell_type": "code",
            "execution_count": null,
            "metadata": {},
            "outputs": [],
            "source": [
                "#Attributes of array\n",
                "print (\"Shape of a =\",a.shape)\n",
                "print (\"Shape of row (axis=0) of a = \", a.shape[0])\n",
                "print (\"Shape of col (axis=1) of a = \", a.shape[1])\n",
                "print (\"Size/Number of elements of a =\",a.size)\n",
                "print (\"Dimension of a =\", a.ndim)\n",
                "print (\"Element type a = \", a.dtype)"
            ]
        },
        {
            "cell_type": "code",
            "execution_count": null,
            "metadata": {},
            "outputs": [],
            "source": [
                "print (\"Create Zeros Matrix with builtin function : \\n\",np.zeros((4,3),dtype=np.int64))\n",
                "print (\"Create Ones Matrix with builtin function : \\n\",np.ones((4,3),dtype=np.int64))\n",
                "print (\"Create Identity Matrix with builtin function : \\n\",np.eye(4,3,dtype=np.int64))\n",
                "print (\"Create Diagonal Matrix with builtin function : \\n\",np.diag(a))\n",
                "print (\"Create matrix with 4 elements, linearly spaced between 1 and 11 :\",np.linspace(1,11,4,dtype=np.int64))\n",
                "print (\"Create matrix with from 0 less then 12\",np.arange(0,12))\n",
                "print (\"Create matrix with from 0 less then 12 at step of 2\",np.arange(0,12,2))"
            ]
        },
        {
            "cell_type": "code",
            "execution_count": null,
            "metadata": {},
            "outputs": [],
            "source": [
                "print (\"Original array=\\n\",a)\n",
                "print (\"Delete 2nd row : \\n\",np.delete(a,1,axis=0))\n",
                "print (\"Delete 1st column : \\n\",np.delete(a,0,axis=1))\n",
                "print (\"Delete 1st and 2nd row : \\n\",np.delete(a,[0,1],axis=0))"
            ]
        },
        {
            "cell_type": "code",
            "execution_count": null,
            "metadata": {},
            "outputs": [],
            "source": [
                "print('Appended row a =\\n', np.append(a,[[12,13,14]], axis=0),'\\n')\n",
                "print('Insert row at 1st a =\\n', np.insert(a,1,[[12,13,14]], axis=0),'\\n')\n",
                "print('Insert col at 1st a =\\n', np.insert(a,1,c, axis=1),'\\n')"
            ]
        },
        {
            "cell_type": "code",
            "execution_count": null,
            "metadata": {},
            "outputs": [],
            "source": [
                "#Boolean indexing\n",
                "q=a\n",
                "print('Get elements with condition (a > 4)',q[q>4])\n",
                "print(q,'\\n',a)"
            ]
        },
        {
            "cell_type": "code",
            "execution_count": null,
            "metadata": {},
            "outputs": [],
            "source": [
                "t=a.copy() #shallow copy , to ensure modifying t won't modify a\n",
                "t[t>4]=-1\n",
                "print('Assign 0 for elements with condition a=\\n{}\\nt = (a > 4)=\\n{}'.format(a,t))"
            ]
        },
        {
            "cell_type": "code",
            "execution_count": null,
            "metadata": {},
            "outputs": [],
            "source": [
                "t=np.random.randint(1,200,size=(4,3))\n",
                "print(\"t =\\n\",t)\n",
                "t1=t.copy()\n",
                "t1.sort(axis=1)\n",
                "print(\"Sorted t axis=1\\n\",t1)\n",
                "t2=t.copy()\n",
                "t2.sort(axis=0)\n",
                "print(\"Sorted t axis=0\\n\",t2)\n",
                "t3=t.copy()\n",
                "t3.sort()\n",
                "print(\"Sorted t \\n\",t3)"
            ]
        },
        {
            "cell_type": "code",
            "execution_count": null,
            "metadata": {},
            "outputs": [],
            "source": [
                "#Section 2 : Broadcast operations\n",
                "a=np.arange(12).reshape(4,3)\n",
                "b=[1,2,3]\n",
                "c=np.reshape(b,(3,1))\n",
                "print(\"a=\\n{}\\nb=\\n{}\\nc=\\n{}\".format(a,b,c))"
            ]
        },
        {
            "cell_type": "code",
            "execution_count": null,
            "metadata": {},
            "outputs": [],
            "source": [
                "print(\"a=\\n{}\\n\\nScalar Addition with constant a+2=\\n{}\".format(a,a+2))\n",
                "print(\"Scalar Addition with constant a+2 using method=\\n{}\".format(np.add(a,2)))"
            ]
        },
        {
            "cell_type": "code",
            "execution_count": null,
            "metadata": {},
            "outputs": [],
            "source": [
                "print(\"a=\\n{}\\nb=\\n{}\\n\\nScalar Addition a+b=\\n{}\".format(a,b,a+b))\n",
                "print(\"Scalar Addition a+b using method=\\n{}\".format(np.add(a,b)))"
            ]
        },
        {
            "cell_type": "code",
            "execution_count": null,
            "metadata": {},
            "outputs": [],
            "source": [
                "print(\"a=\\n{}\\n\\nScalar multiplication with constant a*2=\\n{}\".format(a,a*2))\n",
                "print(\"Scalar multiplication with constant using method=\\n{}\".format(np.multiply(a,2)))"
            ]
        },
        {
            "cell_type": "code",
            "execution_count": null,
            "metadata": {},
            "outputs": [],
            "source": [
                "print(\"a=\\n{}\\nb=\\n{}\\n\\nScalar multiplication a*b=\\n{}\".format(a,b,a*b))\n",
                "print(\"Scalar multiplication using method=\\n{}\".format(np.multiply(a,b)))"
            ]
        },
        {
            "cell_type": "code",
            "execution_count": null,
            "metadata": {},
            "outputs": [],
            "source": [
                "print(\"a=\\n{}\\n\\nScalar multiplication with constant a*2=\\n{}\".format(a,a*2))\n",
                "print(\"Matrix/Dot multiplication with constant using method=\\n{}\".format(np.dot(a,2)))"
            ]
        },
        {
            "cell_type": "code",
            "execution_count": null,
            "metadata": {},
            "outputs": [],
            "source": [
                "print(\"Matrix/Dot multiplication using method=\\n{}\".format(np.dot(a,b)))"
            ]
        },
        {
            "cell_type": "code",
            "execution_count": null,
            "metadata": {},
            "outputs": [],
            "source": [
                "t=[1,2,3]\n",
                "print(\"Matrix/Cross multiplication using method=\\n{}\".format(np.cross(a,t)))"
            ]
        },
        {
            "cell_type": "code",
            "execution_count": null,
            "metadata": {},
            "outputs": [],
            "source": [
                "print(\"a=\\n{}\\nb={}\\n\\nSqrt of a=\\n{}\".format(a, b, np.sqrt(a)))\n",
                "print(\"Power of a^2=\\n{}\".format(np.power(a,2)))\n",
                "print(\"Power of a^b=\\n{}\".format(np.power(a,b)))"
            ]
        },
        {
            "cell_type": "code",
            "execution_count": null,
            "metadata": {},
            "outputs": [],
            "source": [
                "#Section 3 : \n",
                "print(\"a=\\n{}\\nSum of column elements (Along row) (a, axis=0)={}\".format(a,np.sum(a,axis=0)))\n",
                "print(\"Sum of row elements (Along col) (a, axis=1)={}\".format(np.sum(a,axis=1)))\n",
                "print(\"Sum of all axis ={}\".format(np.sum(a)))"
            ]
        },
        {
            "cell_type": "code",
            "execution_count": null,
            "metadata": {},
            "outputs": [],
            "source": [
                "print(\"a=\\n{}\\nProduct of column elements (Along row) (a, axis=0)={}\".format(a,np.prod(a,axis=0)))\n",
                "print(\"Product of row elements (Along col) (a, axis=1)={}\".format(np.prod(a,axis=1)))\n",
                "\n",
                "a[0,0]=1 #Modify to avoid product resulting in zero\n",
                "print(\"\\na=\\n{}\\nProduct of all axis={}\".format(a,np.prod(a)))\n",
                "a[0,0]=0 #Restore"
            ]
        },
        {
            "cell_type": "code",
            "execution_count": null,
            "metadata": {},
            "outputs": [],
            "source": [
                "print(\"a=\\n{}\\n\\nMean of column elements (Along row) (a, axis=0)={}\".format(a,np.mean(a,axis=0)))\n",
                "print(\"Mean of row elements (Along col) (a, axis=1)={}\".format(np.mean(a,axis=1)))\n",
                "print(\"Mean of all axis={}\".format(np.mean(a)))"
            ]
        },
        {
            "cell_type": "code",
            "execution_count": null,
            "metadata": {},
            "outputs": [],
            "source": [
                "print(\"a=\\n{}\\n\\nMedian of column elements (Along row) (a, axis=0)={}\".format(a,np.median(a,axis=0)))\n",
                "print(\"Median of row elements (Along col) (a, axis=1)={}\".format(np.median(a,axis=1)))\n",
                "print(\"Median of all axis={}\".format(np.median(a)))"
            ]
        },
        {
            "cell_type": "code",
            "execution_count": null,
            "metadata": {},
            "outputs": [],
            "source": [
                "t=np.random.randint(100, 400, size=12)\n",
                "t=t.reshape(4,3)\n",
                "print(\"t=\\n{}\\n\\Min of column elements (Along row) (t, axis=0)={}\".format(t,np.min(t,axis=0)))\n",
                "print(\"Min of row elements (Along col) (t, axis=1)={}\".format(np.min(t,axis=1)))\n",
                "print(\"Min of all axis={}\".format(np.median(t)))"
            ]
        }
    ],
    "metadata": {
        "kernelspec": {
            "display_name": "Python 3 (ipykernel)",
            "language": "python",
            "name": "python3"
        },
        "orig_nbformat": 4
    },
    "nbformat": 4,
    "nbformat_minor": 2
}
