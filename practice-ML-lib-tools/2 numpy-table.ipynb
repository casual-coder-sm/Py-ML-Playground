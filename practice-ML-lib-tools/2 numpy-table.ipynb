{
 "cells": [
  {
   "cell_type": "code",
   "execution_count": null,
   "metadata": {},
   "outputs": [],
   "source": [
    "import numpy as np\n",
    "import pandas as pd"
   ]
  },
  {
   "cell_type": "code",
   "execution_count": null,
   "metadata": {},
   "outputs": [],
   "source": [
    "x = np.array([1,2,3])\n",
    "y = np.repeat(x, 1)\n",
    "print(y)\n",
    "#print(np.repeat.__doc__)\n",
    "#Load and save\n",
    "fc=pd.read_csv('https://raw.githubusercontent.com/casual-coder-sm/Py-ML-Playground/main/practice-dataset/FuelConsumption.csv')\n",
    "print(\"Columns of table = \",fc.columns)\n",
    "#print (\"Head \\n\", fc.head(),\"\\n\")\n",
    "#print (\"Tail \\n\", fc.tail(),\"\\n\")"
   ]
  },
  {
   "cell_type": "code",
   "execution_count": null,
   "metadata": {},
   "outputs": [],
   "source": [
    "#Basic attributes\n",
    "nfc=fc.to_numpy() #convert to numpy array type\n",
    "print (\"Shape of a =\",nfc.shape)\n",
    "print (\"Shape of row (axis=0) of a = \", nfc.shape[0])\n",
    "print (\"Shape of col (axis=1) of a = \", nfc.shape[1])\n",
    "print (\"Size/Number of elements of a =\",nfc.size)\n",
    "print (\"Dimension of a =\", nfc.ndim)\n",
    "print (\"Element type a = \", nfc.dtype)"
   ]
  },
  {
   "cell_type": "code",
   "execution_count": null,
   "metadata": {},
   "outputs": [],
   "source": [
    "print ('The indices for the Fuel consumptio table are :', fc.index)\n",
    "print ('The data for the Fuel consumption table are   :\\n',fc.values)\n",
    "print ('The first 10 VEHICLE CLASS\\n',fc['VEHICLECLASS'][0:10])\n",
    "print ('The first 10 VEHICLE CLASS\\n',fc.dtypes)"
   ]
  },
  {
   "cell_type": "code",
   "execution_count": null,
   "metadata": {},
   "outputs": [],
   "source": [
    "fc.describe()"
   ]
  },
  {
   "cell_type": "code",
   "execution_count": null,
   "metadata": {},
   "outputs": [],
   "source": [
    "fc.info()"
   ]
  },
  {
   "cell_type": "code",
   "execution_count": null,
   "metadata": {},
   "outputs": [],
   "source": [
    "print (\"Spread of Model Year\")\n",
    "print (\"Minimum Number of Model Year of vehicle  :\", np.min(nfc[:,0]))\n",
    "print (\"Maximum Number of Model Year of vehicle  :\", np.max(nfc[:,0]))\n",
    "print (\"Range of Model Year of vehicle           :\", np.max(nfc[:,0])-np.min(nfc[:,0])+1)\n",
    "print (\"Total Number of Model Year of vehicle    :\", np.count_nonzero(np.unique(nfc[:,0])))\n",
    "print (\"Average Number of Model Year of vehicle  :\", np.mean(nfc[:,0],dtype=np.int64))\n",
    "print (\"Median Number of Model Year of vehicle   :\", np.median(nfc[:,0]).astype(np.int64))\n",
    "print (\"Standard Deviation of Number of Model Year of vehicle       :\", np.std(nfc[:,0]).astype(np.int64))\n",
    "#print (\"Interquartile range of Number of Model Year of vehicle      :\", )\n",
    "#print (\"Quartile Deviation range of Number of Model Year of vehicle :\", )\n",
    "#print (\"Lower range of Outliers                                     :\", )\n",
    "#print (\"Upper range of Outliers                                     :\", )"
   ]
  },
  {
   "cell_type": "code",
   "execution_count": null,
   "metadata": {},
   "outputs": [],
   "source": [
    "#Check the spread for all numeric fields\n",
    "for i, name in enumerate(fc.columns):\n",
    "    print (\"Spread of {}\".format(name))\n",
    "    if fc[name].dtype != object:\n",
    "        print (\"Minimum Number     :\", np.min(nfc[:,i]))\n",
    "        print (\"Maximum Number     :\", np.max(nfc[:,i]))\n",
    "        print (\"Range              :\", np.max(nfc[:,i])-np.min(nfc[:,i])+1)\n",
    "        print (\"Total              :\", np.count_nonzero(np.unique(nfc[:,i])))\n",
    "        print (\"Average            :\", np.mean(nfc[:,i],dtype=np.int64))\n",
    "        print (\"Median             :\", np.median(nfc[:,i]).astype(np.int64))\n",
    "        print (\"Standard Deviation :\", np.std(nfc[:,i]).astype(np.int64))\n",
    "        #print (\"Interquartile range of Number of Model Year of vehicle      :\", )\n",
    "        #print (\"Quartile Deviation range of Number of Model Year of vehicle :\", )\n",
    "        #print (\"Lower range of Outliers                                     :\", )\n",
    "        #print (\"Upper range of Outliers                                     :\", )\n",
    "    print (\"------------------------------------------------------\")"
   ]
  },
  {
   "cell_type": "code",
   "execution_count": null,
   "metadata": {},
   "outputs": [],
   "source": [
    "fc.loc[0:1,]"
   ]
  },
  {
   "cell_type": "code",
   "execution_count": null,
   "metadata": {},
   "outputs": [],
   "source": [
    "fc.loc[:10,['MAKE','MODEL','VEHICLECLASS']] #loc with column name"
   ]
  },
  {
   "cell_type": "code",
   "execution_count": null,
   "metadata": {},
   "outputs": [],
   "source": [
    "fc.loc[(fc.MAKE=='BMW') & (fc.VEHICLECLASS =='COMPACT')] #loc with condition"
   ]
  }
 ],
 "metadata": {
  "kernelspec": {
   "display_name": "Python 3 (ipykernel)",
   "language": "python",
   "name": "python3"
  },
  "language_info": {
   "codemirror_mode": {
    "name": "ipython",
    "version": 3
   },
   "file_extension": ".py",
   "mimetype": "text/x-python",
   "name": "python",
   "nbconvert_exporter": "python",
   "pygments_lexer": "ipython3",
   "version": "3.8.10"
  }
 },
 "nbformat": 4,
 "nbformat_minor": 2
}
